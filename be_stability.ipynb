{
 "cells": [
  {
   "cell_type": "markdown",
   "metadata": {},
   "source": [
    "\n",
    "<h1 id=\"Stability-Experiments-for-Backward-Euler\">Stability Experiments for Backward Euler<a class=\"anchor-link\" href=\"#Stability-Experiments-for-Backward-Euler\">¶</a></h1>\n"
   ]
  },
  {
   "cell_type": "code",
   "execution_count": null,
   "metadata": {},
   "outputs": [],
   "source": [
    "import numpy as np\n",
    "import matplotlib.pyplot as pt\n",
    "import seaborn as sns\n",
    "sns.set_context(\"talk\", font_scale=1.5, rc={\"lines.linewidth\": 2.5})\n",
    "sns.set_style(\"whitegrid\")"
   ]
  },
  {
   "cell_type": "markdown",
   "metadata": {},
   "source": [
    "\n",
    "<p>We'll integrate</p>\n",
    "$$ y'=\\lambda y$$<p>with $y'(0) = 1$,</p>\n",
    "<p>using Backward Euler.</p>\n"
   ]
  },
  {
   "cell_type": "markdown",
   "metadata": {},
   "source": [
    "\n",
    "<p>Here are a few parameter settings that exhibit different situations that can occur:</p>\n"
   ]
  },
  {
   "cell_type": "code",
   "execution_count": null,
   "metadata": {},
   "outputs": [],
   "source": [
    "# # Pefect\n",
    "# lambda_eig = -1; h = 0.1; final_t = 20\n",
    "\n",
    "# # Uhoh\n",
    "# lambda_eig = -1; h = 1; final_t = 20\n",
    "\n",
    "# # Escalate\n",
    "# lambda_eig = -1; h = 1.5; final_t = 20\n",
    "\n",
    "# # Escalate\n",
    "# lambda_eig = 1; h = 0.1; final_t = 20\n",
    "\n",
    "# Escalate\n",
    "lambda_eig = 1; h = 2; final_t = 20"
   ]
  },
  {
   "cell_type": "markdown",
   "metadata": {},
   "source": [
    "\n",
    "<p>We specify the right-hand side and the initial condition:</p>\n"
   ]
  },
  {
   "cell_type": "code",
   "execution_count": null,
   "metadata": {},
   "outputs": [],
   "source": [
    "t_values = [0]\n",
    "y_values = [1]\n",
    "\n",
    "def f(y):\n",
    "    return lambda_eig * y"
   ]
  },
  {
   "cell_type": "markdown",
   "metadata": {},
   "source": [
    "\n",
    "<p>Integrate in time using Backward Euler:</p>\n"
   ]
  },
  {
   "cell_type": "code",
   "execution_count": null,
   "metadata": {},
   "outputs": [],
   "source": [
    "while t_values[-1] < final_t:\n",
    "    t_values.append(t_values[-1] + h)\n",
    "    y_values.append(y_values[-1]/(1-h*lambda_eig))"
   ]
  },
  {
   "cell_type": "markdown",
   "metadata": {},
   "source": [
    "\n",
    "<p>And plot:</p>\n"
   ]
  },
  {
   "cell_type": "code",
   "execution_count": null,
   "metadata": {},
   "outputs": [],
   "source": [
    "mesh = np.linspace(0, final_t, 100)\n",
    "pt.plot(t_values, y_values)\n",
    "pt.plot(mesh, np.exp(lambda_eig*mesh), label=\"true\")\n",
    "pt.legend()"
   ]
  },
  {
   "cell_type": "code",
   "execution_count": null,
   "metadata": {},
   "outputs": [],
   "source": []
  }
 ],
 "metadata": {
  "kernelspec": {
   "display_name": "Python 3",
   "language": "python",
   "name": "python3"
  },
  "language_info": {
   "codemirror_mode": {
    "name": "ipython",
    "version": 3
   },
   "file_extension": ".py",
   "mimetype": "text/x-python",
   "name": "python",
   "nbconvert_exporter": "python",
   "pygments_lexer": "ipython3",
   "version": "3.6.7"
  }
 },
 "nbformat": 4,
 "nbformat_minor": 1
}
