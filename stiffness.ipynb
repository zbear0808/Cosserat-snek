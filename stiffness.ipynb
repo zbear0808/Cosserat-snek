{
 "cells": [
  {
   "cell_type": "markdown",
   "metadata": {},
   "source": [
    "\n",
    "<h1 id=\"Stiffness-in-Initial-Value-Problems\">Stiffness in Initial Value Problems<a class=\"anchor-link\" href=\"#Stiffness-in-Initial-Value-Problems\">¶</a></h1>\n"
   ]
  },
  {
   "cell_type": "code",
   "execution_count": null,
   "metadata": {},
   "outputs": [],
   "source": [
    "import numpy as np\n",
    "import matplotlib.pyplot as pt\n",
    "import seaborn as sns\n",
    "sns.set_context(\"talk\", font_scale=1.5, rc={\"lines.linewidth\": 2.5})\n",
    "sns.set_style(\"whitegrid\")"
   ]
  },
  {
   "cell_type": "markdown",
   "metadata": {},
   "source": [
    "\n",
    "<p>Consider $y'=-100y+100t + 101$.</p>\n",
    "<p>Exact solution: $y(t)=1+t+ce^{-100t}$.</p>\n",
    "<p>Exact solution derivative: $y'(t)=1-100ce^{-100t}$.</p>\n"
   ]
  },
  {
   "cell_type": "code",
   "execution_count": null,
   "metadata": {},
   "outputs": [],
   "source": [
    "def f(t, y):\n",
    "    return -100*y+100*t + 101"
   ]
  },
  {
   "cell_type": "code",
   "execution_count": null,
   "metadata": {},
   "outputs": [],
   "source": [
    "t_end = 0.2\n",
    "\n",
    "def plot_solution(t0, y0):\n",
    "    c = (y0-1-t0)/np.exp(-100*t0)\n",
    "    t_mesh = np.linspace(t0, t_end, 1000)\n",
    "    solution = 1+t_mesh+c*np.exp(-100*t_mesh)\n",
    "    \n",
    "    pt.plot(t_mesh, solution, label=\"exact\")\n",
    "    pt.plot(t0, y0, \"ko\")"
   ]
  },
  {
   "cell_type": "code",
   "execution_count": null,
   "metadata": {},
   "outputs": [],
   "source": [
    "plot_solution(t0=0, y0=1)\n",
    "plot_solution(t0=0, y0=1.2)\n",
    "plot_solution(t0=0, y0=-0.5)\n",
    "plot_solution(t0=0.05, y0=-0.5)"
   ]
  },
  {
   "cell_type": "markdown",
   "metadata": {},
   "source": [
    "\n",
    "<p>Here's a helper function that uses a time stepper in the form of a <code>step_function</code> to numerically solve an ODE and plot the numerical solution:</p>\n"
   ]
  },
  {
   "cell_type": "code",
   "execution_count": null,
   "metadata": {},
   "outputs": [],
   "source": [
    "def integrate_ode(step_function, t0, y0, h):\n",
    "    times = [t0]\n",
    "    ys = [y0]\n",
    "\n",
    "    while times[-1] <= t_end + 1e-14:\n",
    "        t = times[-1]\n",
    "        ys.append(step_function(t, ys[-1], h))\n",
    "        times.append(t + h)\n",
    "\n",
    "    pt.plot(times, ys, label=step_function.__name__)\n",
    "    pt.xlim([t0, t_end])\n",
    "    pt.ylim([-1, 2])\n",
    "    pt.legend(loc=\"best\")"
   ]
  },
  {
   "cell_type": "markdown",
   "metadata": {},
   "source": [
    "\n",
    "<h2 id=\"Using-an-Explicit-Method\">Using an Explicit Method<a class=\"anchor-link\" href=\"#Using-an-Explicit-Method\">¶</a></h2>\n"
   ]
  },
  {
   "cell_type": "markdown",
   "metadata": {},
   "source": [
    "\n",
    "<p>First, implement <code>forward_euler_step(tk, yk, h)</code>:</p>\n"
   ]
  },
  {
   "cell_type": "code",
   "execution_count": null,
   "metadata": {},
   "outputs": [],
   "source": [
    "def forward_euler_step(tk, yk, h):\n",
    "    return yk + h*f(tk, yk)"
   ]
  },
  {
   "cell_type": "code",
   "execution_count": null,
   "metadata": {},
   "outputs": [],
   "source": [
    "t0 = 0.05\n",
    "y0 = -0.5\n",
    "h = 0.02  # start this at 0.001, then grow\n",
    "\n",
    "plot_solution(t0=t0, y0=y0)\n",
    "integrate_ode(forward_euler_step, t0=t0, y0=y0, h=h)"
   ]
  },
  {
   "cell_type": "markdown",
   "metadata": {},
   "source": [
    "\n",
    "<ul>\n",
    "<li>What's the main challenge here?</li>\n",
    "</ul>\n"
   ]
  },
  {
   "cell_type": "markdown",
   "metadata": {},
   "source": [
    "\n",
    "<h2 id=\"Using-an-Implicit-Method\">Using an Implicit Method<a class=\"anchor-link\" href=\"#Using-an-Implicit-Method\">¶</a></h2>\n"
   ]
  },
  {
   "cell_type": "markdown",
   "metadata": {},
   "source": [
    "\n",
    "<p>Next, implement <code>backward_euler_step(tk, yk, h)</code>:</p>\n"
   ]
  },
  {
   "cell_type": "code",
   "execution_count": null,
   "metadata": {},
   "outputs": [],
   "source": [
    "def backward_euler_step(tk, yk, h):\n",
    "    tkp1 = tk+h\n",
    "    return (yk + h*(100*tkp1 + 101))/(1+100*h)"
   ]
  },
  {
   "cell_type": "code",
   "execution_count": null,
   "metadata": {},
   "outputs": [],
   "source": [
    "t0 = 0.05\n",
    "y0 = -0.5\n",
    "h = 0.05  # start this at 0.001, then grow\n",
    "\n",
    "plot_solution(t0=t0, y0=y0)\n",
    "integrate_ode(backward_euler_step, t0=t0, y0=y0, h=h)\n",
    "pt.xlim([t0, t_end])\n",
    "pt.ylim([-1, 2])\n",
    "pt.legend()"
   ]
  },
  {
   "cell_type": "code",
   "execution_count": null,
   "metadata": {},
   "outputs": [],
   "source": []
  }
 ],
 "metadata": {
  "kernelspec": {
   "display_name": "Python 3",
   "language": "python",
   "name": "python3"
  },
  "language_info": {
   "codemirror_mode": {
    "name": "ipython",
    "version": 3
   },
   "file_extension": ".py",
   "mimetype": "text/x-python",
   "name": "python",
   "nbconvert_exporter": "python",
   "pygments_lexer": "ipython3",
   "version": "3.6.7"
  }
 },
 "nbformat": 4,
 "nbformat_minor": 1
}
