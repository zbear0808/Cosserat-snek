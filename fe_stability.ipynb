{
 "cells": [
  {
   "cell_type": "markdown",
   "metadata": {},
   "source": [
    "\n",
    "<h1 id=\"Stability-Experiments-for-Forward-Euler\">Stability Experiments for Forward Euler<a class=\"anchor-link\" href=\"#Stability-Experiments-for-Forward-Euler\">¶</a></h1>\n"
   ]
  },
  {
   "cell_type": "code",
   "execution_count": 1,
   "metadata": {},
   "outputs": [],
   "source": [
    "import numpy as np\n",
    "import matplotlib.pyplot as plt\n",
    "import seaborn as sns\n",
    "sns.set_context(\"talk\", font_scale=1.5, rc={\"lines.linewidth\": 2.5})\n",
    "sns.set_style(\"whitegrid\")"
   ]
  },
  {
   "cell_type": "markdown",
   "metadata": {},
   "source": [
    "\n",
    "<p>We'll integrate</p>\n",
    "$$ y'=\\lambda y$$<p>with $y(0) = 1$,</p>\n",
    "<p>using forward Euler.</p>\n"
   ]
  },
  {
   "cell_type": "markdown",
   "metadata": {},
   "source": [
    "\n",
    "<p>Here are a few parameter settings that exhibit different situations that can occur:</p>\n"
   ]
  },
  {
   "cell_type": "code",
   "execution_count": 2,
   "metadata": {},
   "outputs": [],
   "source": [
    "# # # Escalate\n",
    "# lambda_eig = 1; h = 0.1; final_t = 20\n",
    "\n",
    "# # True\n",
    "# lambda_eig = -1; h = 0.1; final_t = 20\n",
    "\n",
    "# # Plunge to 0\n",
    "# lambda_eig = -1; h = 1; final_t = 20\n",
    "\n",
    "# # Zigzagoon\n",
    "# lambda_eig = -1; h = 1.5; final_t = 20\n",
    "\n",
    "# # At the edge\n",
    "# lambda_eig = -1; h = 2; final_t = 20\n",
    "\n",
    "# Blow up\n",
    "lambda_eig = -1; h = 2.5; final_t = 20"
   ]
  },
  {
   "cell_type": "markdown",
   "metadata": {},
   "source": [
    "We specify the right-hand side and the initial condition:"
   ]
  },
  {
   "cell_type": "code",
   "execution_count": 3,
   "metadata": {},
   "outputs": [],
   "source": [
    "t_values = [0]\n",
    "y_values = [1]\n",
    "\n",
    "def f(y):\n",
    "    return lambda_eig * y"
   ]
  },
  {
   "cell_type": "markdown",
   "metadata": {},
   "source": [
    "Integrate in time using Forward Euler:"
   ]
  },
  {
   "cell_type": "code",
   "execution_count": 4,
   "metadata": {},
   "outputs": [],
   "source": [
    "while t_values[-1] < final_t:\n",
    "    t_values.append(t_values[-1] + h)\n",
    "    y_values.append(y_values[-1] + h*f(y_values[-1]))"
   ]
  },
  {
   "cell_type": "markdown",
   "metadata": {},
   "source": [
    "And plot:"
   ]
  },
  {
   "cell_type": "code",
   "execution_count": 5,
   "metadata": {},
   "outputs": [
    {
     "data": {
      "text/plain": [
       "<matplotlib.legend.Legend at 0x7f2d4f70a2b0>"
      ]
     },
     "execution_count": 5,
     "metadata": {},
     "output_type": "execute_result"
    },
    {
     "data": {
      "image/png": "[encoded data removed]",
      "text/plain": [
       "<Figure size 432x288 with 1 Axes>"
      ]
     },
     "metadata": {
      "needs_background": "light"
     },
     "output_type": "display_data"
    }
   ],
   "source": [
    "mesh = np.linspace(0, final_t, 100)\n",
    "plt.plot(t_values, y_values)\n",
    "plt.plot(mesh, np.exp(lambda_eig*mesh), label=\"true\")\n",
    "plt.legend()"
   ]
  }
 ],
 "metadata": {
  "kernelspec": {
   "display_name": "Python 3",
   "language": "python",
   "name": "python3"
  },
  "language_info": {
   "codemirror_mode": {
    "name": "ipython",
    "version": 3
   },
   "file_extension": ".py",
   "mimetype": "text/x-python",
   "name": "python",
   "nbconvert_exporter": "python",
   "pygments_lexer": "ipython3",
   "version": "3.6.7"
  }
 },
 "nbformat": 4,
 "nbformat_minor": 1
}
