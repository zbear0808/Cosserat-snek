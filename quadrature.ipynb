{
 "cells": [
  {
   "cell_type": "markdown",
   "metadata": {},
   "source": [
    "## Quadrature"
   ]
  },
  {
   "cell_type": "code",
   "execution_count": null,
   "metadata": {},
   "outputs": [],
   "source": [
    "import numpy as np\n",
    "import matplotlib as mpl\n",
    "from matplotlib import pyplot as plt\n",
    "from matplotlib import cm\n",
    "import seaborn as sns\n",
    "from scipy.integrate import quad, fixed_quad\n",
    "sns.set_context(\"talk\", font_scale=1.5, rc={\"lines.linewidth\": 2.5})\n",
    "sns.set_style(\"whitegrid\")\n",
    "import sympy as sp\n",
    "from IPython.display import HTML\n",
    "from matplotlib import animation\n",
    "%matplotlib inline\n",
    "\n",
    "# Don't tinker, or do\n",
    "#%matplotlib nbagg\n",
    "# from matplotlib import rcParams\n",
    "#rcParams['font.family']='sans-serif' \n",
    "#rcParams('font', serif='Helvetica Neue') \n",
    "# rcParams['text.usetex']= True \n",
    "#rcParams.update({'font.size': 22})"
   ]
  },
  {
   "cell_type": "markdown",
   "metadata": {},
   "source": [
    "## Numerical integration schemes\n",
    "Integration is a fundamental operation in calculus, and involves finding the area under a certain curve (geometrically). As and when you were first introduced to integration, you realized that certain functions cannot be analytically integrated (the reverse is not true however---differentiation of functions was more natural!). But the definite integral of such functions (indefinite integrals are important, but not central in engineering) can at least be estimated numerically. We look at some schemes/algorithms to do such an estimation. The problem we deal with is then to approximate\n",
    "$$  \\int_{a}^{b} f(x) dx  \\approx \\sum_{i=1}^{n} \\omega_i f(x_i) $$\n",
    "given an integrable function $f : [a,b] \\to \\mathbb{R}$ with *nodes* ($x_i$) and *weights* ($\\omega_i$). Schemes that we will be discussing involve careful choices of these nodes and weights. "
   ]
  },
  {
   "cell_type": "markdown",
   "metadata": {},
   "source": [
    "To get started, let us define a class that helps us implement any quadrature rule easily."
   ]
  },
  {
   "cell_type": "code",
   "execution_count": null,
   "metadata": {},
   "outputs": [],
   "source": [
    "class SpatialIntegrator(object):\n",
    "    \"\"\" Class for wrapping a quadrature scheme with other goodies\n",
    "    \"\"\"\n",
    "    def __init__(self, i_a, i_b, i_h):\n",
    "        \"\"\" Initialize the integrator\n",
    "        \"\"\"\n",
    "        # What forcing function are we using?\n",
    "        self.forcing = None\n",
    "\n",
    "        # What integration algorithm are we using?\n",
    "        self.integrator = None\n",
    "\n",
    "        self.a = i_a\n",
    "        self.b = i_b\n",
    "        self.h = i_h\n",
    "        self.nsteps = int((i_b - i_a)/i_h)\n",
    "\n",
    "    def set_forcing_function(self, t_func):\n",
    "        \"\"\" Set forcing function (or) integrand to be used \n",
    "        \"\"\"\n",
    "        if type(t_func) is not str:\n",
    "            try:\n",
    "                # If not string, try and evaluate the function\n",
    "                t_func(0.0)\n",
    "                # If the function works, set this function as forcing\n",
    "                self.forcing = t_func\n",
    "            except:\n",
    "                raise RuntimeError('Provided function cannot be evaluated')\n",
    "        \n",
    "    def analytic(self):\n",
    "        \"\"\"  For testing convergence, defined as a special function \"\"\"\n",
    "        if self.forcing.__name__ == \"composite_function\":\n",
    "            analytical_integral = (self.forcing(self.b)[1] - self.forcing(self.a)[1])\n",
    "        else:\n",
    "            def temp_func(x):\n",
    "                return self.forcing(x)[0]\n",
    "            analytical_integral, _ = quad(temp_func, self.a, self.b)\n",
    "        return analytical_integral\n",
    "            \n",
    "    def integrate_using(self, integrator, renderer):\n",
    "        \"\"\"  Integrates the function and spits out the relative error\n",
    "        \"\"\"\n",
    "        self.integrator = integrator.__name__\n",
    "        all_starts = np.linspace(self.a, self.b - self.h, self.nsteps)\n",
    "        all_ends = all_starts + self.h                \n",
    "        integral, start_end_values = integrator(self.forcing, all_starts, all_ends)\n",
    "        integral = np.sum(integral)\n",
    "        \n",
    "        analytical_integral = self.analytic()\n",
    "        print(\"Integral is {:20.16f}, Analytical integral is {:20.16f}, Relative error is {:20.16f}\".format(integral, analytical_integral, np.abs(integral/analytical_integral - 1)))\n",
    "        # Pass as (2xn) arrays. While reshaping do T to get (nx2) arrays\n",
    "        self.draw(renderer, start_end_values)\n",
    "        return np.abs(integral - analytical_integral)/np.abs(analytical_integral)\n",
    "\n",
    "    def draw(self, renderer, st_end_vals):\n",
    "        \"\"\" Draw the matplotlib canvas with the portrait we want\n",
    "        \"\"\"\n",
    "        # If there is a timestepper, then there is numerical data\n",
    "        # Plot them\n",
    "        fine_mesh = np.linspace(self.a, self.b, 1001)\n",
    "        renderer.plot(fine_mesh, self.forcing(fine_mesh)[0], 'r-', label=r'$f(x)$')\n",
    "\n",
    "        # This step interleaves data present in 0,2,4,6... by transposing\n",
    "        # them and then reshaping\n",
    "        all_x_values = st_end_vals[0::2].T\n",
    "        all_x_values = all_x_values.reshape(-1,)\n",
    "\n",
    "        all_y_values = st_end_vals[1::2].T\n",
    "        all_y_values = all_y_values.reshape(-1,)\n",
    "        \n",
    "        renderer.plot(all_x_values, all_y_values, 'k--')\n",
    "        renderer.fill_between(all_x_values, all_y_values, alpha=0.2)\n",
    "        renderer.legend()\n",
    "        renderer.set_xlabel(r'$x$')\n",
    "        renderer.set_ylabel(r'$y$')\n",
    "        renderer.set_title(r'${}$'.format(self.integrator))\n",
    "#         renderer.set_aspect('equal')\n"
   ]
  },
  {
   "cell_type": "markdown",
   "metadata": {},
   "source": [
    "## Quadrature\n",
    "\n",
    "A variety of rules for quadratures exist, and we are going to look at three simple ones : (a) Midpoint (b) Trapezoidal and (c) Simpson rules, although others (Clenshaw--Curtis, Gaussian quadrature) will be discussed on the way. We will attempt to compare these methods in terms of their ease (in understanding/implementation), order of accuracy (in comparison to the discretization $h$) and function evaluations for each step $h$.\n",
    "\n",
    "## What do these rules do?\n",
    "They approximate the area under the curve in a smart way---using local polynomials (in the case of interpolatory quadrature), you approximate the curve and integrate these polynomials instead. This approximation is not arbitrary, it represents a local Taylor series expansion. We'll first look at some schemes and what local polynomials they represent. "
   ]
  },
  {
   "cell_type": "code",
   "execution_count": null,
   "metadata": {},
   "outputs": [],
   "source": [
    "def trapezoidal(func, lhs, rhs):\n",
    "    \"\"\"Does quadrature for one panel using the trapezoidal\n",
    "    rule\n",
    "    \n",
    "    Parameters\n",
    "    ----------\n",
    "    func : ufunc\n",
    "        A function, f, that takes one argument and\n",
    "        returns the function value and exact integral\n",
    "        as a tuple\n",
    "    lhs : float/array-like\n",
    "        The lower evaluation limit of the definite integral\n",
    "    rhs : float/array-like\n",
    "        The upper evalutation limit of the definite integral\n",
    "\n",
    "    Returns\n",
    "    -------\n",
    "    integral : float/array-like\n",
    "        Approximation of the integral using quadrature\n",
    "    pts : np.array\n",
    "        Points and values at which the local polynomials\n",
    "        are drawn, specified as (x_1,fx_1,x_2,fx_2,...)\n",
    "    \"\"\"\n",
    "    tmp1, tmp2 = func(lhs)[0], func(rhs)[0]\n",
    "    return 0.5*(rhs-lhs)*(tmp1 + tmp2), np.array([lhs, tmp1, rhs, tmp2])"
   ]
  },
  {
   "cell_type": "code",
   "execution_count": null,
   "metadata": {},
   "outputs": [],
   "source": [
    "def midpoint(func, lhs, rhs):\n",
    "    \"\"\"Does quadrature for one panel using the midpoint\n",
    "    rule\n",
    "    \n",
    "    Parameters\n",
    "    ----------\n",
    "    func : ufunc\n",
    "        A function, f, that takes one argument and\n",
    "        returns the function value and exact integral\n",
    "        as a tuple\n",
    "    lhs : float/array-like\n",
    "        The lower evaluation limit of the definite integral\n",
    "    rhs : float/array-like\n",
    "        The upper evalutation limit of the definite integral\n",
    "\n",
    "    Returns\n",
    "    -------\n",
    "    integral : float/array-like\n",
    "        Approximation of the integral using quadrature\n",
    "    pts : np.array\n",
    "        Points and values at which the local polynomials\n",
    "        are drawn, specified as (x_1,fx_1,x_2,fx_2,...)\n",
    "    \"\"\"\n",
    "    tmp = func(0.5*(lhs+rhs))[0]\n",
    "    return (rhs-lhs)*tmp, np.array([lhs, tmp, rhs, tmp])"
   ]
  },
  {
   "cell_type": "code",
   "execution_count": null,
   "metadata": {},
   "outputs": [],
   "source": [
    "def simpson(func, lhs, rhs):\n",
    "    \"\"\"Does quadrature for one panel using the Simpson\n",
    "    rule\n",
    "    \n",
    "    Parameters\n",
    "    ----------\n",
    "    func : ufunc\n",
    "        A function, f, that takes one argument and\n",
    "        returns the function value and exact integral\n",
    "        as a tuple\n",
    "    lhs : float/array-like\n",
    "        The lower evaluation limit of the definite integral\n",
    "    rhs : float/array-like\n",
    "        The upper evalutation limit of the definite integral\n",
    "\n",
    "    Returns\n",
    "    -------\n",
    "    integral : float/array-like\n",
    "        Approximation of the integral using quadrature\n",
    "    pts : np.array\n",
    "        Points and values at which the local polynomials\n",
    "        are drawn, specified as (x_1,fx_1,x_2,fx_2,...)\n",
    "    \"\"\"\n",
    "    tmp1, tmp2, tmp3 = func(lhs)[0], func(rhs)[0], func(0.5*(lhs+rhs))[0]\n",
    "    return (rhs-lhs)/6. * (tmp1+tmp2+4*tmp3), np.array([lhs, tmp1, 0.5*(lhs+rhs), tmp3, rhs, tmp2])"
   ]
  },
  {
   "cell_type": "markdown",
   "metadata": {},
   "source": [
    "## Testing quadrature?\n",
    "Let's test these rules out between $[a,b]$ for simple polynomial (constant, linear, quadratic and cubic) curves and draw inferences from them (What's the error and so on...)"
   ]
  },
  {
   "cell_type": "code",
   "execution_count": null,
   "metadata": {},
   "outputs": [],
   "source": [
    "# Bounds of integration\n",
    "a = 0\n",
    "b = 1\n",
    "h = (b-a)\n",
    "\n",
    "# Define function to be integrated and\n",
    "# its integral\n",
    "def test_func(x):\n",
    "#     # Constant\n",
    "#     return 1. + 0.*x, 0. + 1.*x\n",
    "\n",
    "#     # Linear\n",
    "#     return 0. + 1.*x, 0. + 0.5*x**2\n",
    "\n",
    "#     # Quadratic\n",
    "#     return 0. + 1.*x**2, 0. + x**3/3.\n",
    "\n",
    "    # Cubic\n",
    "    return 0. + 1.*x**3, 0. + x**4/4."
   ]
  },
  {
   "cell_type": "code",
   "execution_count": null,
   "metadata": {},
   "outputs": [],
   "source": [
    "fig, ax = plt.subplots(1,1, figsize=(4, 4))\n",
    "si = SpatialIntegrator(a, b, h)\n",
    "si.set_forcing_function(test_func)\n",
    "\n",
    "# Try out different rules below\n",
    "# si.integrate_using(midpoint, ax)\n",
    "# si.integrate_using(trapezoidal, ax)\n",
    "si.integrate_using(simpson, ax)"
   ]
  },
  {
   "cell_type": "markdown",
   "metadata": {},
   "source": [
    "### Things to observe\n",
    "- What local polynomial orders do they fit?\n",
    "- Is there a relation between the errors of the midpoint and trapezoidal quadrature rule?\n",
    "- How do they perform for functions that are more complicated (say, a cubic)?"
   ]
  },
  {
   "cell_type": "markdown",
   "metadata": {},
   "source": [
    "## Composite quadrature\n",
    "We saw that if the function is not simple, quadrature struggles to give us approximations that are close. When faced with this situtation, we do what we do best---throw in more points and hope for the best. This has a name---\"Composite quadrature\", which fits the curve into many small piecewise polynomials and integrates them instead. We can also rigorously show the error bounds for composite rules too. Let's do that now.  "
   ]
  },
  {
   "cell_type": "code",
   "execution_count": null,
   "metadata": {},
   "outputs": [],
   "source": [
    "# Bounds of integration\n",
    "a = 0\n",
    "b = 1\n",
    "\n",
    "# All the change comes in this part only. \n",
    "# Instead of simple interval, we pass many\n",
    "# such intervals to the quadrature rule\n",
    "# and sum them up\n",
    "h = (b-a)/10\n",
    "\n",
    "# Define not so simple function to be integrated\n",
    "def composite_function(x):\n",
    "#     return np.exp(2*x), 0.5*np.exp(2*x)\n",
    "\n",
    "    return np.exp(x)*(1-np.cos(2.*np.pi*x)), np.exp(x)*(1. + 4.*np.pi**2 - np.cos(2.*np.pi*x) - 2.*np.pi*np.sin(2.*np.pi*x))/(1. + 4.*np.pi**2)\n",
    "\n",
    "#     return np.sqrt(1-x**2), 0.5*( x * np.sqrt(1-x**2) + np.arcsin(x))\n",
    "\n",
    "#     return np.log(2. + np.cos(2.*np.pi*x)), 2*x\n",
    "\n",
    "#     return 1. + np.cos(2.*np.pi*x), x + np.sin(2.*np.pi*x)/(2.*np.pi)"
   ]
  },
  {
   "cell_type": "code",
   "execution_count": null,
   "metadata": {},
   "outputs": [],
   "source": [
    "fig, ax = plt.subplots(1,1, figsize=(5, 5))\n",
    "si = SpatialIntegrator(a, b, h)\n",
    "si.set_forcing_function(composite_function)\n",
    "\n",
    "# Try out different rules below\n",
    "si.integrate_using(midpoint, ax)\n",
    "# si.integrate_using(trapezoidal, ax)\n",
    "# si.integrate_using(simpson, ax)"
   ]
  },
  {
   "cell_type": "markdown",
   "metadata": {},
   "source": [
    "## Order of accuracy of composite quadrature rules\n",
    "What's **order** of accuracy? Order of accuracy quantifies the rate of convergence of a numerical approximation of a integral to the exact integral.\n",
    "The numerical solution ${u}$ is said to be $n^{\\text{th}}$-order accurate if the error, $e(h):=\\lvert\\tilde{{u}}-{u} \\rvert$ is proportional to the discretization-size $ h $, to the $n^{\\text{th}}$ power. That is\n",
    "\n",
    "$$ e(h)=\\lvert\\tilde{{u}}-{u} \\rvert\\leq C(h)^{n} $$\n",
    "\n",
    "Details of this are given in the slides. Here, we focus on integrating a simple function (which has a non-negligible contribution from H.O.T in the Taylor series ) and figure out the order of convergence. The model problem that we deal with is\n",
    "\n",
    "$$ \\int_{0}^{1} e^{2x} dx $$\n",
    "which as we know has the analytical solution $ \\tilde{y} = \\frac{e^{2}}{2} $, and so error can be calculated."
   ]
  },
  {
   "cell_type": "markdown",
   "metadata": {},
   "source": [
    "### Gaussian quadrature\n",
    "Before doing tests for convergence, let us also implement Gaussian quadrature using `scipy.integrate.fixed_quad`"
   ]
  },
  {
   "cell_type": "code",
   "execution_count": null,
   "metadata": {},
   "outputs": [],
   "source": [
    "def gauss(func, lhs, rhs):\n",
    "    \"\"\"Does quadrature for one panel using the Gaussian rule\n",
    "    \n",
    "    Parameters\n",
    "    ----------\n",
    "    func : ufunc\n",
    "        A function, f, that takes one argument and\n",
    "        returns the function value and exact integral\n",
    "        as a tuple\n",
    "    lhs : float/array-like\n",
    "        The lower evaluation limit of the definite integral\n",
    "    rhs : float/array-like\n",
    "        The upper evalutation limit of the definite integral\n",
    "\n",
    "    Returns\n",
    "    -------\n",
    "    integral : float/array-like\n",
    "        Approximation of the integral using quadrature\n",
    "    pts : np.array\n",
    "        Points and values at which the local polynomials\n",
    "        are drawn, specified as (x_1,fx_1,x_2,fx_2,...)\n",
    "    \"\"\"\n",
    "    def temp_func(x):\n",
    "        return func(x)[0]\n",
    "    \n",
    "    quad_sum = 0.0\n",
    "    for i in range(lhs.shape[0]):\n",
    "        quad_sum += fixed_quad(temp_func, lhs[i], rhs[i], n=3)[0] \n",
    "    return quad_sum, np.array([lhs, 0.0*lhs, rhs, 0.0*rhs])"
   ]
  },
  {
   "cell_type": "code",
   "execution_count": null,
   "metadata": {},
   "outputs": [],
   "source": [
    "# Bounds of integration\n",
    "a = 0\n",
    "b = 1\n",
    "\n",
    "# All functions that you coded up\n",
    "impl_list = [midpoint, trapezoidal, simpson, gauss]\n",
    "\n",
    "# Time steps and associated errors from 25*1 to 25*12\n",
    "h_steps = np.arange(1, 12, dtype=np.int16)\n",
    "errors_list = [[None for i in h_steps] for impl in impl_list]\n",
    "\n",
    "# Run simulations and collect errors\n",
    "for i_impl, impl in enumerate(impl_list):\n",
    "    for i_step, step in enumerate(h_steps):\n",
    "        new_h = (b-a)/(25*(step))\n",
    "        si = SpatialIntegrator(a, b, new_h)\n",
    "        si.set_forcing_function(composite_function)\n",
    "        errors_list[i_impl][i_step] = si.integrate_using(impl, ax)"
   ]
  },
  {
   "cell_type": "code",
   "execution_count": null,
   "metadata": {},
   "outputs": [],
   "source": [
    "# Draw error plots in a log-log plot\n",
    "fig, ax = plt.subplots(1,1, figsize=(10, 10))\n",
    "\n",
    "# x axis is time, y axis is error\n",
    "for i_impl, impl in enumerate(impl_list):\n",
    "    ax.plot((b-a)/(25.*h_steps), errors_list[i_impl], 'o-', label=impl.__name__)\n",
    "\n",
    "# Draw helpful slope lines to compare\n",
    "x_ax = (b-a)/(25.*h_steps)\n",
    "ax.plot(x_ax, 1.2 * x_ax**2, 'k--')\n",
    "ax.plot(x_ax, 0.5 * x_ax**2, 'k--')\n",
    "ax.plot(x_ax, 0.015 * x_ax**4, 'k--')  \n",
    "\n",
    "# Make it readable\n",
    "ax.set_xlabel(r'$h$')\n",
    "ax.set_ylabel(r'$e(h)$')\n",
    "ax.set_title('Order of accuracy')\n",
    "ax.set_yscale('log')\n",
    "ax.set_xscale('log')\n",
    "ax.legend()\n",
    "# fig.savefig('ooa.pdf')"
   ]
  },
  {
   "cell_type": "markdown",
   "metadata": {},
   "source": [
    "### Things to observe\n",
    "- What is the order of accuracy in the composite case?\n",
    "- How does this compare to our error estimation (through Taylor series expansion) for non-composite and composite cases? \n",
    "- Is the error function dependent? (change functions and see). If so, why?"
   ]
  },
  {
   "cell_type": "markdown",
   "metadata": {},
   "source": [
    "## Analysis of the functions above\n",
    "Some further analysis is needed to explain the results above."
   ]
  },
  {
   "cell_type": "code",
   "execution_count": null,
   "metadata": {},
   "outputs": [],
   "source": [
    "sp.x = sp.symbols('x')\n",
    "# sp_expr = sp.exp(sp.x)*(1-sp.cos(2.*sp.pi*sp.x))\n",
    "sp_expr = sp.sqrt(1-sp.x**2)"
   ]
  },
  {
   "cell_type": "code",
   "execution_count": null,
   "metadata": {},
   "outputs": [],
   "source": [
    "expr_list = []\n",
    "max_derivative = 3\n",
    "for i in range(max_derivative):\n",
    "    new_expr = sp.diff(sp_expr, sp.x, i)\n",
    "    expr_list.append(sp.lambdify(sp.x, new_expr, 'numpy'))"
   ]
  },
  {
   "cell_type": "code",
   "execution_count": null,
   "metadata": {},
   "outputs": [],
   "source": [
    "fig, ax = plt.subplots(1,1, figsize=(10, 10))\n",
    "x = np.linspace(0.0, 1.0, 1001)\n",
    "for i_expr, expr in enumerate(expr_list):\n",
    "    ax.plot(x, expr(x), label=r'{} derivative'.format(i_expr))\n",
    "ax.legend()"
   ]
  }
 ],
 "metadata": {
  "kernelspec": {
   "display_name": "Python 3",
   "language": "python",
   "name": "python3"
  },
  "language_info": {
   "codemirror_mode": {
    "name": "ipython",
    "version": 3
   },
   "file_extension": ".py",
   "mimetype": "text/x-python",
   "name": "python",
   "nbconvert_exporter": "python",
   "pygments_lexer": "ipython3",
   "version": "3.7.2"
  }
 },
 "nbformat": 4,
 "nbformat_minor": 2
}
